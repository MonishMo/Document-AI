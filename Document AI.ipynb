{
 "cells": [
  {
   "cell_type": "markdown",
   "id": "6adf7c58",
   "metadata": {},
   "source": [
    "#  Invoice Data Extraction Process using Document AI"
   ]
  },
  {
   "cell_type": "markdown",
   "id": "494a3b24",
   "metadata": {},
   "source": [
    "Document AI is a Google Cloud platform tool that takes unstructured data from documents and transforms it into structured data, making it easier to understand, analyze, and consume. Document AI uses natural language processing, computer vision and Google Cloud services to help you create scalable, end-to-end, cloud-based document processing applications."
   ]
  },
  {
   "cell_type": "markdown",
   "id": "1f36e6a8",
   "metadata": {},
   "source": [
    "To know more about Document AI. Follow this \n",
    "\n",
    "https://medium.com/@monishmoz1/streamline-data-extraction-with-googles-document-ai-4c92fe280344"
   ]
  },
  {
   "cell_type": "code",
   "execution_count": 20,
   "id": "d3867741",
   "metadata": {},
   "outputs": [
    {
     "name": "stdout",
     "output_type": "stream",
     "text": [
      "Defaulting to user installation because normal site-packages is not writeable\n",
      "Requirement already satisfied: pyarrow in c:\\users\\windows\\appdata\\roaming\\python\\python311\\site-packages (15.0.0)\n",
      "Requirement already satisfied: numpy<2,>=1.16.6 in c:\\programdata\\anaconda3\\lib\\site-packages (from pyarrow) (1.24.3)\n",
      "Defaulting to user installation because normal site-packages is not writeable\n",
      "Requirement already satisfied: google-cloud-documentai in c:\\users\\windows\\appdata\\roaming\\python\\python311\\site-packages (2.23.0)\n",
      "Requirement already satisfied: google-api-core[grpc]!=2.0.*,!=2.1.*,!=2.10.*,!=2.2.*,!=2.3.*,!=2.4.*,!=2.5.*,!=2.6.*,!=2.7.*,!=2.8.*,!=2.9.*,<3.0.0dev,>=1.34.0 in c:\\users\\windows\\appdata\\roaming\\python\\python311\\site-packages (from google-cloud-documentai) (2.15.0)\n",
      "Requirement already satisfied: google-auth<3.0.0dev,>=2.14.1 in c:\\users\\windows\\appdata\\roaming\\python\\python311\\site-packages (from google-cloud-documentai) (2.26.0)\n",
      "Requirement already satisfied: proto-plus<2.0.0dev,>=1.22.3 in c:\\users\\windows\\appdata\\roaming\\python\\python311\\site-packages (from google-cloud-documentai) (1.23.0)\n",
      "Requirement already satisfied: protobuf!=3.20.0,!=3.20.1,!=4.21.0,!=4.21.1,!=4.21.2,!=4.21.3,!=4.21.4,!=4.21.5,<5.0.0dev,>=3.19.5 in c:\\users\\windows\\appdata\\roaming\\python\\python311\\site-packages (from google-cloud-documentai) (4.25.1)\n",
      "Requirement already satisfied: googleapis-common-protos<2.0.dev0,>=1.56.2 in c:\\users\\windows\\appdata\\roaming\\python\\python311\\site-packages (from google-api-core[grpc]!=2.0.*,!=2.1.*,!=2.10.*,!=2.2.*,!=2.3.*,!=2.4.*,!=2.5.*,!=2.6.*,!=2.7.*,!=2.8.*,!=2.9.*,<3.0.0dev,>=1.34.0->google-cloud-documentai) (1.62.0)\n",
      "Requirement already satisfied: requests<3.0.0.dev0,>=2.18.0 in c:\\programdata\\anaconda3\\lib\\site-packages (from google-api-core[grpc]!=2.0.*,!=2.1.*,!=2.10.*,!=2.2.*,!=2.3.*,!=2.4.*,!=2.5.*,!=2.6.*,!=2.7.*,!=2.8.*,!=2.9.*,<3.0.0dev,>=1.34.0->google-cloud-documentai) (2.31.0)\n",
      "Requirement already satisfied: grpcio<2.0dev,>=1.33.2 in c:\\users\\windows\\appdata\\roaming\\python\\python311\\site-packages (from google-api-core[grpc]!=2.0.*,!=2.1.*,!=2.10.*,!=2.2.*,!=2.3.*,!=2.4.*,!=2.5.*,!=2.6.*,!=2.7.*,!=2.8.*,!=2.9.*,<3.0.0dev,>=1.34.0->google-cloud-documentai) (1.60.0)\n",
      "Requirement already satisfied: grpcio-status<2.0.dev0,>=1.33.2 in c:\\users\\windows\\appdata\\roaming\\python\\python311\\site-packages (from google-api-core[grpc]!=2.0.*,!=2.1.*,!=2.10.*,!=2.2.*,!=2.3.*,!=2.4.*,!=2.5.*,!=2.6.*,!=2.7.*,!=2.8.*,!=2.9.*,<3.0.0dev,>=1.34.0->google-cloud-documentai) (1.60.0)\n",
      "Requirement already satisfied: cachetools<6.0,>=2.0.0 in c:\\users\\windows\\appdata\\roaming\\python\\python311\\site-packages (from google-auth<3.0.0dev,>=2.14.1->google-cloud-documentai) (5.3.2)\n",
      "Requirement already satisfied: pyasn1-modules>=0.2.1 in c:\\programdata\\anaconda3\\lib\\site-packages (from google-auth<3.0.0dev,>=2.14.1->google-cloud-documentai) (0.2.8)\n",
      "Requirement already satisfied: rsa<5,>=3.1.4 in c:\\users\\windows\\appdata\\roaming\\python\\python311\\site-packages (from google-auth<3.0.0dev,>=2.14.1->google-cloud-documentai) (4.9)\n",
      "Requirement already satisfied: pyasn1<0.5.0,>=0.4.6 in c:\\programdata\\anaconda3\\lib\\site-packages (from pyasn1-modules>=0.2.1->google-auth<3.0.0dev,>=2.14.1->google-cloud-documentai) (0.4.8)\n",
      "Requirement already satisfied: charset-normalizer<4,>=2 in c:\\programdata\\anaconda3\\lib\\site-packages (from requests<3.0.0.dev0,>=2.18.0->google-api-core[grpc]!=2.0.*,!=2.1.*,!=2.10.*,!=2.2.*,!=2.3.*,!=2.4.*,!=2.5.*,!=2.6.*,!=2.7.*,!=2.8.*,!=2.9.*,<3.0.0dev,>=1.34.0->google-cloud-documentai) (2.0.4)\n",
      "Requirement already satisfied: idna<4,>=2.5 in c:\\programdata\\anaconda3\\lib\\site-packages (from requests<3.0.0.dev0,>=2.18.0->google-api-core[grpc]!=2.0.*,!=2.1.*,!=2.10.*,!=2.2.*,!=2.3.*,!=2.4.*,!=2.5.*,!=2.6.*,!=2.7.*,!=2.8.*,!=2.9.*,<3.0.0dev,>=1.34.0->google-cloud-documentai) (3.4)\n",
      "Requirement already satisfied: urllib3<3,>=1.21.1 in c:\\programdata\\anaconda3\\lib\\site-packages (from requests<3.0.0.dev0,>=2.18.0->google-api-core[grpc]!=2.0.*,!=2.1.*,!=2.10.*,!=2.2.*,!=2.3.*,!=2.4.*,!=2.5.*,!=2.6.*,!=2.7.*,!=2.8.*,!=2.9.*,<3.0.0dev,>=1.34.0->google-cloud-documentai) (1.26.16)\n",
      "Requirement already satisfied: certifi>=2017.4.17 in c:\\programdata\\anaconda3\\lib\\site-packages (from requests<3.0.0.dev0,>=2.18.0->google-api-core[grpc]!=2.0.*,!=2.1.*,!=2.10.*,!=2.2.*,!=2.3.*,!=2.4.*,!=2.5.*,!=2.6.*,!=2.7.*,!=2.8.*,!=2.9.*,<3.0.0dev,>=1.34.0->google-cloud-documentai) (2023.7.22)\n"
     ]
    }
   ],
   "source": [
    "!pip install pyarrow \n",
    "!pip install google-cloud-documentai"
   ]
  },
  {
   "cell_type": "code",
   "execution_count": 12,
   "id": "875b4c6a",
   "metadata": {},
   "outputs": [
    {
     "name": "stdout",
     "output_type": "stream",
     "text": [
      "Defaulting to user installation because normal site-packages is not writeable\n",
      "Collecting google-cloud-documentai\n",
      "  Obtaining dependency information for google-cloud-documentai from https://files.pythonhosted.org/packages/56/f1/8c245a3aa07eb7fc478a559dd643055a2ce7aba1b9e930df1d1a99ac4ac0/google_cloud_documentai-2.23.0-py2.py3-none-any.whl.metadata\n",
      "  Downloading google_cloud_documentai-2.23.0-py2.py3-none-any.whl.metadata (5.2 kB)\n",
      "Requirement already satisfied: google-api-core[grpc]!=2.0.*,!=2.1.*,!=2.10.*,!=2.2.*,!=2.3.*,!=2.4.*,!=2.5.*,!=2.6.*,!=2.7.*,!=2.8.*,!=2.9.*,<3.0.0dev,>=1.34.0 in c:\\users\\windows\\appdata\\roaming\\python\\python311\\site-packages (from google-cloud-documentai) (2.15.0)\n",
      "Requirement already satisfied: google-auth<3.0.0dev,>=2.14.1 in c:\\users\\windows\\appdata\\roaming\\python\\python311\\site-packages (from google-cloud-documentai) (2.26.0)\n",
      "Requirement already satisfied: proto-plus<2.0.0dev,>=1.22.3 in c:\\users\\windows\\appdata\\roaming\\python\\python311\\site-packages (from google-cloud-documentai) (1.23.0)\n",
      "Requirement already satisfied: protobuf!=3.20.0,!=3.20.1,!=4.21.0,!=4.21.1,!=4.21.2,!=4.21.3,!=4.21.4,!=4.21.5,<5.0.0dev,>=3.19.5 in c:\\users\\windows\\appdata\\roaming\\python\\python311\\site-packages (from google-cloud-documentai) (4.25.1)\n",
      "Requirement already satisfied: googleapis-common-protos<2.0.dev0,>=1.56.2 in c:\\users\\windows\\appdata\\roaming\\python\\python311\\site-packages (from google-api-core[grpc]!=2.0.*,!=2.1.*,!=2.10.*,!=2.2.*,!=2.3.*,!=2.4.*,!=2.5.*,!=2.6.*,!=2.7.*,!=2.8.*,!=2.9.*,<3.0.0dev,>=1.34.0->google-cloud-documentai) (1.62.0)\n",
      "Requirement already satisfied: requests<3.0.0.dev0,>=2.18.0 in c:\\programdata\\anaconda3\\lib\\site-packages (from google-api-core[grpc]!=2.0.*,!=2.1.*,!=2.10.*,!=2.2.*,!=2.3.*,!=2.4.*,!=2.5.*,!=2.6.*,!=2.7.*,!=2.8.*,!=2.9.*,<3.0.0dev,>=1.34.0->google-cloud-documentai) (2.31.0)\n",
      "Requirement already satisfied: grpcio<2.0dev,>=1.33.2 in c:\\users\\windows\\appdata\\roaming\\python\\python311\\site-packages (from google-api-core[grpc]!=2.0.*,!=2.1.*,!=2.10.*,!=2.2.*,!=2.3.*,!=2.4.*,!=2.5.*,!=2.6.*,!=2.7.*,!=2.8.*,!=2.9.*,<3.0.0dev,>=1.34.0->google-cloud-documentai) (1.60.0)\n",
      "Requirement already satisfied: grpcio-status<2.0.dev0,>=1.33.2 in c:\\users\\windows\\appdata\\roaming\\python\\python311\\site-packages (from google-api-core[grpc]!=2.0.*,!=2.1.*,!=2.10.*,!=2.2.*,!=2.3.*,!=2.4.*,!=2.5.*,!=2.6.*,!=2.7.*,!=2.8.*,!=2.9.*,<3.0.0dev,>=1.34.0->google-cloud-documentai) (1.60.0)\n",
      "Requirement already satisfied: cachetools<6.0,>=2.0.0 in c:\\users\\windows\\appdata\\roaming\\python\\python311\\site-packages (from google-auth<3.0.0dev,>=2.14.1->google-cloud-documentai) (5.3.2)\n",
      "Requirement already satisfied: pyasn1-modules>=0.2.1 in c:\\programdata\\anaconda3\\lib\\site-packages (from google-auth<3.0.0dev,>=2.14.1->google-cloud-documentai) (0.2.8)\n",
      "Requirement already satisfied: rsa<5,>=3.1.4 in c:\\users\\windows\\appdata\\roaming\\python\\python311\\site-packages (from google-auth<3.0.0dev,>=2.14.1->google-cloud-documentai) (4.9)\n",
      "Requirement already satisfied: pyasn1<0.5.0,>=0.4.6 in c:\\programdata\\anaconda3\\lib\\site-packages (from pyasn1-modules>=0.2.1->google-auth<3.0.0dev,>=2.14.1->google-cloud-documentai) (0.4.8)\n",
      "Requirement already satisfied: charset-normalizer<4,>=2 in c:\\programdata\\anaconda3\\lib\\site-packages (from requests<3.0.0.dev0,>=2.18.0->google-api-core[grpc]!=2.0.*,!=2.1.*,!=2.10.*,!=2.2.*,!=2.3.*,!=2.4.*,!=2.5.*,!=2.6.*,!=2.7.*,!=2.8.*,!=2.9.*,<3.0.0dev,>=1.34.0->google-cloud-documentai) (2.0.4)\n",
      "Requirement already satisfied: idna<4,>=2.5 in c:\\programdata\\anaconda3\\lib\\site-packages (from requests<3.0.0.dev0,>=2.18.0->google-api-core[grpc]!=2.0.*,!=2.1.*,!=2.10.*,!=2.2.*,!=2.3.*,!=2.4.*,!=2.5.*,!=2.6.*,!=2.7.*,!=2.8.*,!=2.9.*,<3.0.0dev,>=1.34.0->google-cloud-documentai) (3.4)\n",
      "Requirement already satisfied: urllib3<3,>=1.21.1 in c:\\programdata\\anaconda3\\lib\\site-packages (from requests<3.0.0.dev0,>=2.18.0->google-api-core[grpc]!=2.0.*,!=2.1.*,!=2.10.*,!=2.2.*,!=2.3.*,!=2.4.*,!=2.5.*,!=2.6.*,!=2.7.*,!=2.8.*,!=2.9.*,<3.0.0dev,>=1.34.0->google-cloud-documentai) (1.26.16)\n",
      "Requirement already satisfied: certifi>=2017.4.17 in c:\\programdata\\anaconda3\\lib\\site-packages (from requests<3.0.0.dev0,>=2.18.0->google-api-core[grpc]!=2.0.*,!=2.1.*,!=2.10.*,!=2.2.*,!=2.3.*,!=2.4.*,!=2.5.*,!=2.6.*,!=2.7.*,!=2.8.*,!=2.9.*,<3.0.0dev,>=1.34.0->google-cloud-documentai) (2023.7.22)\n",
      "Downloading google_cloud_documentai-2.23.0-py2.py3-none-any.whl (305 kB)\n",
      "   ---------------------------------------- 0.0/305.9 kB ? eta -:--:--\n",
      "   - -------------------------------------- 10.2/305.9 kB ? eta -:--:--\n",
      "   --- ----------------------------------- 30.7/305.9 kB 435.7 kB/s eta 0:00:01\n",
      "   ------- ------------------------------- 61.4/305.9 kB 469.7 kB/s eta 0:00:01\n",
      "   ---------- ---------------------------- 81.9/305.9 kB 512.0 kB/s eta 0:00:01\n",
      "   ------------- ------------------------ 112.6/305.9 kB 504.4 kB/s eta 0:00:01\n",
      "   -------------------- ----------------- 163.8/305.9 kB 614.4 kB/s eta 0:00:01\n",
      "   ------------------------ ------------- 194.6/305.9 kB 655.9 kB/s eta 0:00:01\n",
      "   ------------------------------ ------- 245.8/305.9 kB 686.6 kB/s eta 0:00:01\n",
      "   ------------------------------------ - 297.0/305.9 kB 735.2 kB/s eta 0:00:01\n",
      "   -------------------------------------- 305.9/305.9 kB 728.1 kB/s eta 0:00:00\n",
      "Installing collected packages: google-cloud-documentai\n",
      "Successfully installed google-cloud-documentai-2.23.0\n"
     ]
    }
   ],
   "source": [
    "!pip install google-cloud-documentai"
   ]
  },
  {
   "cell_type": "code",
   "execution_count": 42,
   "id": "587e2930",
   "metadata": {},
   "outputs": [],
   "source": [
    "# import pyarrow.parquet as pq\n",
    "\n",
    "# # Specify the file path of the Parquet file\n",
    "# file_path = \"./train-00000-of-00001-76ffc8319f74dd65.parquet\"\n",
    "\n",
    "# # Read the Parquet file\n",
    "# table = pq.read_table(file_path)\n",
    "\n",
    "# # Convert the table to a Pandas DataFrame (optional)\n",
    "# df = table.to_pandas()\n",
    "\n",
    "# # Now you can work with the DataFrame as you would normally in Pandas\n",
    "# print(df.head())\n"
   ]
  },
  {
   "cell_type": "code",
   "execution_count": null,
   "id": "9a420df8",
   "metadata": {},
   "outputs": [],
   "source": [
    "from huggingface_hub import login\n",
    "login()"
   ]
  },
  {
   "cell_type": "code",
   "execution_count": 32,
   "id": "f82ab6b7",
   "metadata": {},
   "outputs": [
    {
     "data": {
      "application/vnd.jupyter.widget-view+json": {
       "model_id": "13880f37fa7f46eeba5fc0eb84b3bd32",
       "version_major": 2,
       "version_minor": 0
      },
      "text/plain": [
       "Downloading readme:   0%|          | 0.00/782 [00:00<?, ?B/s]"
      ]
     },
     "metadata": {},
     "output_type": "display_data"
    },
    {
     "data": {
      "application/vnd.jupyter.widget-view+json": {
       "model_id": "bf71071943a642f699d96f6372637e4c",
       "version_major": 2,
       "version_minor": 0
      },
      "text/plain": [
       "Downloading data:   0%|          | 0.00/249M [00:00<?, ?B/s]"
      ]
     },
     "metadata": {},
     "output_type": "display_data"
    },
    {
     "data": {
      "application/vnd.jupyter.widget-view+json": {
       "model_id": "a82817fea71c4d958f5f3ba9530a6765",
       "version_major": 2,
       "version_minor": 0
      },
      "text/plain": [
       "Downloading data:   0%|          | 0.00/18.8M [00:00<?, ?B/s]"
      ]
     },
     "metadata": {},
     "output_type": "display_data"
    },
    {
     "data": {
      "application/vnd.jupyter.widget-view+json": {
       "model_id": "f85c0660f3c34cb5b8de9a8514b41760",
       "version_major": 2,
       "version_minor": 0
      },
      "text/plain": [
       "Downloading data:   0%|          | 0.00/14.1M [00:00<?, ?B/s]"
      ]
     },
     "metadata": {},
     "output_type": "display_data"
    },
    {
     "data": {
      "application/vnd.jupyter.widget-view+json": {
       "model_id": "d7592b850d0242fb8d9e114eb1098a4c",
       "version_major": 2,
       "version_minor": 0
      },
      "text/plain": [
       "Generating train split:   0%|          | 0/2043 [00:00<?, ? examples/s]"
      ]
     },
     "metadata": {},
     "output_type": "display_data"
    },
    {
     "data": {
      "application/vnd.jupyter.widget-view+json": {
       "model_id": "ad76f4b84657491bb9bfebc55e440735",
       "version_major": 2,
       "version_minor": 0
      },
      "text/plain": [
       "Generating test split:   0%|          | 0/125 [00:00<?, ? examples/s]"
      ]
     },
     "metadata": {},
     "output_type": "display_data"
    },
    {
     "data": {
      "application/vnd.jupyter.widget-view+json": {
       "model_id": "0efd9cc1dbe4402f86e73a1954d07b39",
       "version_major": 2,
       "version_minor": 0
      },
      "text/plain": [
       "Generating valid split:   0%|          | 0/70 [00:00<?, ? examples/s]"
      ]
     },
     "metadata": {},
     "output_type": "display_data"
    }
   ],
   "source": [
    "from datasets import load_dataset\n",
    "\n",
    "dataset = load_dataset(\"mychen76/invoices-and-receipts_ocr_v1\")"
   ]
  },
  {
   "cell_type": "code",
   "execution_count": 41,
   "id": "806b90e5",
   "metadata": {},
   "outputs": [],
   "source": [
    "df = dataset['train'].to_pandas()"
   ]
  },
  {
   "cell_type": "code",
   "execution_count": 37,
   "id": "a31dc6fb",
   "metadata": {},
   "outputs": [
    {
     "data": {
      "text/plain": [
       "Index(['image', 'id', 'parsed_data', 'raw_data'], dtype='object')"
      ]
     },
     "execution_count": 37,
     "metadata": {},
     "output_type": "execute_result"
    }
   ],
   "source": [
    "df.columns"
   ]
  },
  {
   "cell_type": "code",
   "execution_count": 4,
   "id": "c1b364c1",
   "metadata": {},
   "outputs": [
    {
     "data": {
      "text/plain": [
       "(2043, 4)"
      ]
     },
     "execution_count": 4,
     "metadata": {},
     "output_type": "execute_result"
    }
   ],
   "source": [
    "df.shape"
   ]
  },
  {
   "cell_type": "code",
   "execution_count": 5,
   "id": "b1831f0b",
   "metadata": {},
   "outputs": [
    {
     "data": {
      "text/plain": [
       "'{\\'header\\': {\\'invoice_no\\': \\'40378170\\', \\'invoice_date\\': \\'10/15/2012\\', \\'seller\\': \\'Patel, Thompson and Montgomery 356 Kyle Vista New James, MA 46228\\', \\'client\\': \\'Jackson, Odonnell and Jackson 267 John Track Suite 841 Jenniferville, PA 98601\\', \\'seller_tax_id\\': \\'958-74-3511\\', \\'client_tax_id\\': \\'998-87-7723\\', \\'iban\\': \\'GB77WRBQ31965128414006\\'}, \\'items\\': [{\\'item_desc\\': \"Leed\\'s Wine Companion Bottle Corkscrew Opener Gift Box Set with Foil Cutter\", \\'item_qty\\': \\'1,00\\', \\'item_net_price\\': \\'7,50\\', \\'item_net_worth\\': \\'7,50\\', \\'item_vat\\': \\'10%\\', \\'item_gross_worth\\': \\'8,25\\'}], \\'summary\\': {\\'total_net_worth\\': \\'$7,50\\', \\'total_vat\\': \\'$0,75\\', \\'total_gross_worth\\': \\'$8,25\\'}}'"
      ]
     },
     "execution_count": 5,
     "metadata": {},
     "output_type": "execute_result"
    }
   ],
   "source": [
    "import json\n",
    "\n",
    "json.loads(df['parsed_data'][0])['json']"
   ]
  },
  {
   "cell_type": "code",
   "execution_count": 11,
   "id": "db9e43c9",
   "metadata": {},
   "outputs": [],
   "source": [
    "from PIL import Image\n",
    "import io\n",
    "\n",
    "# Assuming image_bytes contains the bytes of the image\n",
    "\n",
    "# Create a BytesIO object to wrap the image bytes\n",
    "image_stream = io.BytesIO(df['image'][0]['bytes'])\n",
    "\n",
    "# Open the image using PIL's Image module\n",
    "image = Image.open(image_stream)\n",
    "\n",
    "# Display the image\n",
    "image.show()\n"
   ]
  },
  {
   "cell_type": "code",
   "execution_count": 6,
   "id": "e0885b27",
   "metadata": {},
   "outputs": [],
   "source": [
    "from typing import Optional\n",
    "\n",
    "from google.api_core.client_options import ClientOptions\n",
    "from google.cloud import documentai  # type: ignore\n",
    "\n",
    "\n",
    "\n",
    "def process_document_sample(\n",
    "    project_id: str,\n",
    "    location: str,\n",
    "    processor_id: str,\n",
    "    image_content,\n",
    "    mime_type: str,\n",
    "    field_mask: Optional[str] = None,\n",
    "    processor_version_id: Optional[str] = None,\n",
    ") -> None:\n",
    "    opts = ClientOptions(api_endpoint=f\"{location}-documentai.googleapis.com\")\n",
    "\n",
    "    client = documentai.DocumentProcessorServiceClient(client_options=opts)\n",
    "\n",
    "    if processor_version_id:\n",
    "\n",
    "        name = client.processor_version_path(\n",
    "            project_id, location, processor_id, processor_version_id\n",
    "        )\n",
    "    else:\n",
    "        # The full resource name of the processor, e.g.:\n",
    "        # `projects/{project_id}/locations/{location}/processors/{processor_id}`\n",
    "        name = client.processor_path(project_id, location, processor_id)\n",
    "\n",
    "    # Read the file into memory\n",
    "#     with open(file_path, \"rb\") as image:\n",
    "#         image_content = image.read()\n",
    "\n",
    "    raw_document = documentai.RawDocument(content=image_content, mime_type=mime_type)\n",
    "\n",
    "\n",
    "    process_options = documentai.ProcessOptions(\n",
    "        individual_page_selector=documentai.ProcessOptions.IndividualPageSelector(\n",
    "            pages=[1]\n",
    "        )\n",
    "    )\n",
    "\n",
    "    request = documentai.ProcessRequest(\n",
    "        name=name,\n",
    "        raw_document=raw_document,\n",
    "        field_mask=field_mask,\n",
    "        process_options=process_options,\n",
    "    )\n",
    "\n",
    "    result = client.process_document(request=request)\n",
    "\n",
    "\n",
    "    document = result.document\n",
    "\n",
    "    return document"
   ]
  },
  {
   "cell_type": "markdown",
   "id": "68d3323e",
   "metadata": {},
   "source": [
    "## General - Form Parser Processor"
   ]
  },
  {
   "cell_type": "code",
   "execution_count": 8,
   "id": "652f5121",
   "metadata": {},
   "outputs": [
    {
     "name": "stdout",
     "output_type": "stream",
     "text": [
      "8.07184386253357\n"
     ]
    }
   ],
   "source": [
    "import time\n",
    "\n",
    "project_id = \"\"\n",
    "location = \"us\"\n",
    "processor_id = \"\"      #provide processor id here\n",
    "mime_type = \"image/png\"\n",
    "field_mask = \"text,entities,pages.pageNumber\"\n",
    "processor_version_id = \"\"\n",
    "\n",
    "document_result_obj = []\n",
    "\n",
    "\n",
    "\n",
    "start = time.time()\n",
    "\n",
    "## To iterate through the dataframe and work with that data uncomment the below code\n",
    "\n",
    "# for image in df['image']:\n",
    "#     image_content = image['bytes']\n",
    "#     result = process_document_sample(project_id, location, processor_id, image_content , mime_type)\n",
    "    \n",
    "#     document_result_obj.append(result)\n",
    "\n",
    "image_content = df.iloc[0]['image']['bytes']\n",
    "result = process_document_sample(project_id, location, processor_id, image_content , mime_type)\n",
    "\n",
    "print(time.time() - start)"
   ]
  },
  {
   "cell_type": "code",
   "execution_count": 9,
   "id": "763f2113",
   "metadata": {},
   "outputs": [
    {
     "data": {
      "text/plain": [
       "\"Invoice no: 40378170\\nDate of issue:\\n10/15/2012\\nSeller:\\nClient:\\nPatel, Thompson and Montgomery\\n356 Kyle Vista\\nNew James, MA 46228\\nJackson, Odonnell and Jackson\\n267 John Track Suite 841\\nJenniferville, PA 98601\\nTax Id: 998-87-7723\\nTax Id: 958-74-3511\\nIBAN: GB77WRBQ31965128414006\\nITEMS\\nNo.\\nDescription\\nQty\\nUM\\nNet price\\nNet worth\\nVAT [%]\\nGross\\nworth\\n1.\\n1,00\\neach\\n7,50\\n7,50\\n10%\\n8,25\\nLeed's Wine Companion Bottle\\nCorkscrew Opener Gift Box Set\\nwith Foil Cutter\\nSUMMARY\\nVAT [%]\\nNet worth\\nVAT\\nGross worth\\n10%\\n7,50\\n0,75\\n8,25\\nTotal\\n$ 7,50\\n$ 0,75\\n$ 8,25\\n\""
      ]
     },
     "execution_count": 9,
     "metadata": {},
     "output_type": "execute_result"
    }
   ],
   "source": [
    "result.text"
   ]
  },
  {
   "cell_type": "code",
   "execution_count": 10,
   "id": "864b10ff",
   "metadata": {},
   "outputs": [],
   "source": [
    "result.pages[0].tables[0].header_rows"
   ]
  },
  {
   "cell_type": "code",
   "execution_count": 11,
   "id": "4adfb3d1",
   "metadata": {},
   "outputs": [],
   "source": [
    "result.entities[0]"
   ]
  },
  {
   "cell_type": "code",
   "execution_count": 50,
   "id": "20f18c36",
   "metadata": {
    "scrolled": true
   },
   "outputs": [
    {
     "name": "stdout",
     "output_type": "stream",
     "text": [
      "id : 40378170\n",
      "date_time : 10/15/2012\n",
      "person : Patel, Thompson\n",
      "organization : Thompson and Montgomery\n",
      "address : 356 Kyle Vista\n",
      "New James, MA 46228\n",
      "organization : Jackson\n",
      "address : 267 John Track Suite 841\n",
      "Jenniferville, PA 98601\n",
      "id : 998-87-7723\n",
      "id : 958-74-3511\n",
      "id : GB77WRBQ31965128414006\n",
      "quantity : 1,00\n",
      "price : 7,50\n",
      "quantity : 7,50\n",
      "quantity : 10%\n",
      "quantity : 8,25\n",
      "organization : Wine Companion Bottle\n",
      "organization : Corkscrew Opener\n",
      "organization : Foil Cutter\n",
      "quantity : 10%\n",
      "quantity : 7,50\n",
      "price : 0,75\n",
      "quantity : 8,25\n",
      "price : $ 7,50\n",
      "price : $ 0,75\n",
      "price : $ 8,25\n"
     ]
    }
   ],
   "source": [
    "for ent in result.entities[0].properties:\n",
    "    print(f\"{ent.type_} : {ent.mention_text}\")"
   ]
  },
  {
   "cell_type": "markdown",
   "id": "31c58bfd",
   "metadata": {},
   "source": [
    "## Extract Table using Form Parser Processor"
   ]
  },
  {
   "cell_type": "code",
   "execution_count": 12,
   "id": "ce26f3f7",
   "metadata": {},
   "outputs": [],
   "source": [
    "from typing import Optional, Sequence\n",
    "import pandas as pd\n",
    "\n",
    "\n",
    "def print_table_rows(\n",
    "    table_rows: Sequence[documentai.Document.Page.Table.TableRow], text: str\n",
    ") -> None:\n",
    "    result_list = []\n",
    "    for table_row in table_rows:\n",
    "        row_text = \"\"\n",
    "        row = []\n",
    "        for cell in table_row.cells:\n",
    "            cell_text = layout_to_text(cell.layout, text)\n",
    "            row.append(cell_text.strip())\n",
    "#             row_text += f\"{repr(cell_text.strip())} | \"\n",
    "\n",
    "    result_list.append(row)\n",
    "    \n",
    "    return result_list\n",
    "        \n",
    "        \n",
    "def layout_to_text(layout: documentai.Document.Page.Layout, text: str) -> str:\n",
    "    \"\"\"\n",
    "    Document AI identifies text in different parts of the document by their\n",
    "    offsets in the entirety of the document\"s text. This function converts\n",
    "    offsets to a string.\n",
    "    \"\"\"\n",
    "    # If a text segment spans several lines, it will\n",
    "    # be stored in different text segments.\n",
    "    return \"\".join(\n",
    "        text[int(segment.start_index) : int(segment.end_index)]\n",
    "        for segment in layout.text_anchor.text_segments\n",
    "    )"
   ]
  },
  {
   "cell_type": "code",
   "execution_count": 13,
   "id": "d492d3ca",
   "metadata": {},
   "outputs": [
    {
     "name": "stdout",
     "output_type": "stream",
     "text": [
      "\n",
      "\n",
      "**** Page 1 ****\n",
      "\n",
      "Found 2 table(s):\n",
      "Table with 1 columns and 2 rows:\n",
      "Table with 8 columns and 1 rows:\n",
      "\n",
      "Found 11 form field(s):\n",
      "    * 'Client:': 'Jackson, Odonnell and Jackson\\n267 John Track Suite 841\\nJenniferville, PA 98601'\n",
      "    * 'Tax Id:': '998-87-7723'\n",
      "    * 'Seller:': 'Patel, Thompson and Montgomery\\n356 Kyle Vista\\nNew James, MA 46228'\n",
      "    * 'IBAN:': 'GB77WRBQ31965128414006'\n",
      "    * 'Tax Id:': '958-74-3511'\n",
      "    * 'Invoice no:': '40378170'\n",
      "    * 'Date of issue:': '10/15/2012'\n",
      "    * 'Gross\\nworth': '8,25'\n",
      "    * 'VAT [%]': '10%'\n",
      "    * 'Net worth': '7,50'\n",
      "    * 'Net price': '7,50'\n"
     ]
    }
   ],
   "source": [
    "text = result.text\n",
    "tables = []\n",
    "for page in result.pages:\n",
    "    print(f\"\\n\\n**** Page {page.page_number} ****\")\n",
    "\n",
    "    print(f\"\\nFound {len(page.tables)} table(s):\")\n",
    "    for table in page.tables:\n",
    "        num_columns = len(table.header_rows[0].cells)\n",
    "        num_rows = len(table.body_rows)\n",
    "        print(f\"Table with {num_columns} columns and {num_rows} rows:\")\n",
    "\n",
    "\n",
    "        header = print_table_rows(table.header_rows, text)\n",
    "\n",
    "        rows = print_table_rows(table.body_rows, text)\n",
    "        table = pd.DataFrame(rows, columns=header)\n",
    "        tables.append(table)\n",
    "        \n",
    "\n",
    "        \n",
    "    print(f\"\\nFound {len(page.form_fields)} form field(s):\")\n",
    "    for field in page.form_fields:\n",
    "        name = layout_to_text(field.field_name, text)\n",
    "        value = layout_to_text(field.field_value, text)\n",
    "        print(f\"    * {repr(name.strip())}: {repr(value.strip())}\")"
   ]
  },
  {
   "cell_type": "markdown",
   "id": "b97b6fe4",
   "metadata": {},
   "source": [
    "#### Iterate through the resulted table list"
   ]
  },
  {
   "cell_type": "code",
   "execution_count": 15,
   "id": "058da819",
   "metadata": {},
   "outputs": [
    {
     "name": "stdout",
     "output_type": "stream",
     "text": [
      "Number of Tables present in the Document: 2\n"
     ]
    }
   ],
   "source": [
    "print(f\"Number of Tables present in the Document: {len(tables)}\")"
   ]
  },
  {
   "cell_type": "code",
   "execution_count": 16,
   "id": "6cba659c",
   "metadata": {},
   "outputs": [
    {
     "data": {
      "text/html": [
       "<div>\n",
       "<style scoped>\n",
       "    .dataframe tbody tr th:only-of-type {\n",
       "        vertical-align: middle;\n",
       "    }\n",
       "\n",
       "    .dataframe tbody tr th {\n",
       "        vertical-align: top;\n",
       "    }\n",
       "\n",
       "    .dataframe thead tr th {\n",
       "        text-align: left;\n",
       "    }\n",
       "</style>\n",
       "<table border=\"1\" class=\"dataframe\">\n",
       "  <thead>\n",
       "    <tr>\n",
       "      <th></th>\n",
       "      <th>VAT [%]\\nNet worth\\nVAT\\nGross worth</th>\n",
       "    </tr>\n",
       "  </thead>\n",
       "  <tbody>\n",
       "    <tr>\n",
       "      <th>0</th>\n",
       "      <td>Total\\n$ 7,50\\n$ 0,75\\n$ 8,25</td>\n",
       "    </tr>\n",
       "  </tbody>\n",
       "</table>\n",
       "</div>"
      ],
      "text/plain": [
       "  VAT [%]\\nNet worth\\nVAT\\nGross worth\n",
       "0        Total\\n$ 7,50\\n$ 0,75\\n$ 8,25"
      ]
     },
     "metadata": {},
     "output_type": "display_data"
    },
    {
     "data": {
      "text/html": [
       "<div>\n",
       "<style scoped>\n",
       "    .dataframe tbody tr th:only-of-type {\n",
       "        vertical-align: middle;\n",
       "    }\n",
       "\n",
       "    .dataframe tbody tr th {\n",
       "        vertical-align: top;\n",
       "    }\n",
       "\n",
       "    .dataframe thead tr th {\n",
       "        text-align: left;\n",
       "    }\n",
       "</style>\n",
       "<table border=\"1\" class=\"dataframe\">\n",
       "  <thead>\n",
       "    <tr>\n",
       "      <th></th>\n",
       "      <th>No.</th>\n",
       "      <th>Description</th>\n",
       "      <th>Qty</th>\n",
       "      <th>UM</th>\n",
       "      <th>Net price</th>\n",
       "      <th>Net worth</th>\n",
       "      <th>VAT [%]</th>\n",
       "      <th>Gross\\nworth</th>\n",
       "    </tr>\n",
       "  </thead>\n",
       "  <tbody>\n",
       "    <tr>\n",
       "      <th>0</th>\n",
       "      <td>1.</td>\n",
       "      <td>Leed's Wine Companion Bottle\\nCorkscrew Opener...</td>\n",
       "      <td>1,00</td>\n",
       "      <td>each</td>\n",
       "      <td>7,50</td>\n",
       "      <td>7,50</td>\n",
       "      <td>10%</td>\n",
       "      <td>8,25</td>\n",
       "    </tr>\n",
       "  </tbody>\n",
       "</table>\n",
       "</div>"
      ],
      "text/plain": [
       "  No.                                        Description   Qty    UM  \\\n",
       "0  1.  Leed's Wine Companion Bottle\\nCorkscrew Opener...  1,00  each   \n",
       "\n",
       "  Net price Net worth VAT [%] Gross\\nworth  \n",
       "0      7,50      7,50     10%         8,25  "
      ]
     },
     "metadata": {},
     "output_type": "display_data"
    }
   ],
   "source": [
    "for table in tables:\n",
    "    display(table)"
   ]
  },
  {
   "cell_type": "markdown",
   "id": "d157c382",
   "metadata": {},
   "source": [
    "### Entities extracted using Form Parser"
   ]
  },
  {
   "cell_type": "code",
   "execution_count": 85,
   "id": "be107e91",
   "metadata": {},
   "outputs": [
    {
     "name": "stdout",
     "output_type": "stream",
     "text": [
      "id : 40378170\n",
      "date_time : 10/15/2012\n",
      "person : Patel, Thompson\n",
      "organization : Thompson and Montgomery\n",
      "address : 356 Kyle Vista\n",
      "New James, MA 46228\n",
      "organization : Jackson\n",
      "address : 267 John Track Suite 841\n",
      "Jenniferville, PA 98601\n",
      "id : 998-87-7723\n",
      "id : 958-74-3511\n",
      "id : GB77WRBQ31965128414006\n",
      "quantity : 1,00\n",
      "price : 7,50\n",
      "quantity : 7,50\n",
      "quantity : 10%\n",
      "quantity : 8,25\n",
      "organization : Wine Companion Bottle\n",
      "organization : Corkscrew Opener\n",
      "organization : Foil Cutter\n",
      "quantity : 10%\n",
      "quantity : 7,50\n",
      "price : 0,75\n",
      "quantity : 8,25\n",
      "price : $ 7,50\n",
      "price : $ 0,75\n",
      "price : $ 8,25\n"
     ]
    }
   ],
   "source": [
    "for ent in result.entities:\n",
    "    if len(ent.text_anchor.text_segments) == 1:\n",
    "        print(f\"{ent.type_}: {ent.mention_text}\")\n",
    "        continue\n",
    "    for prop in ent.properties:\n",
    "        print(f\"{prop.type_} : {prop.mention_text}\")"
   ]
  },
  {
   "cell_type": "markdown",
   "id": "080c2e14",
   "metadata": {},
   "source": [
    "Entities extracted here is very general as the names of the field is not specific to invoice or any type. To improve this we can use invoice processor to extract invoice specific entities."
   ]
  },
  {
   "cell_type": "markdown",
   "id": "1191dcca",
   "metadata": {},
   "source": [
    "## Invoice"
   ]
  },
  {
   "cell_type": "code",
   "execution_count": 17,
   "id": "5cefd14b",
   "metadata": {},
   "outputs": [
    {
     "name": "stdout",
     "output_type": "stream",
     "text": [
      "11.600863933563232\n"
     ]
    }
   ],
   "source": [
    "inv_processor_id = \"\"      #provide processor id here\n",
    "\n",
    "start = time.time()\n",
    "\n",
    "image_content = df.iloc[0]['image']['bytes']\n",
    "invoice_result = process_document_sample(project_id, location, inv_processor_id, image_content , mime_type)\n",
    "\n",
    "print(time.time() - start)"
   ]
  },
  {
   "cell_type": "code",
   "execution_count": 81,
   "id": "a4dcb584",
   "metadata": {},
   "outputs": [
    {
     "name": "stdout",
     "output_type": "stream",
     "text": [
      "vat/tax_rate : 10\n",
      "vat/amount : 7,50\n",
      "vat/tax_amount : 0,75\n",
      "invoice_id: 40378170\n",
      "invoice_date: 10/15/2012\n",
      "supplier_tax_id: 958-74-3511\n",
      "supplier_iban: GB77WRBQ31965128414006\n",
      "total_amount: 8,25\n",
      "receiver_tax_id: 998-87-7723\n",
      "total_tax_amount: 0,75\n",
      "receiver_name: Jackson, Odonnell and Jackson\n",
      "net_amount: 7,50\n",
      "supplier_address: 356 Kyle Vista\n",
      "New James, MA 46228\n",
      "receiver_address: 267 John Track Suite 841\n",
      "Jenniferville, PA 98601\n",
      "supplier_name: Patel, Thompson and Montgomery\n",
      "currency: $\n",
      "line_item/quantity : 1,00\n",
      "line_item/unit : each\n",
      "line_item/unit_price : 7,50\n",
      "line_item/amount : 8,25\n",
      "line_item/description : Leed's Wine Companion Bottle\n",
      "Corkscrew Opener Gift Box Set\n",
      "with Foil Cutter\n"
     ]
    }
   ],
   "source": [
    "for ent in invoice_result.entities:\n",
    "    if len(ent.text_anchor.text_segments) == 1:\n",
    "        print(f\"{ent.type_}: {ent.mention_text}\")\n",
    "        continue\n",
    "    for prop in ent.properties:\n",
    "        print(f\"{prop.type_} : {prop.mention_text}\")"
   ]
  },
  {
   "cell_type": "markdown",
   "id": "5076c07d",
   "metadata": {},
   "source": [
    "Entities extracted from Invoice Processor are specific to invoice types. Check the above the entities. While the entities that is extracted from general form parser is very generic. It will extract the entities as such in the document."
   ]
  },
  {
   "cell_type": "code",
   "execution_count": 31,
   "id": "cad2f017",
   "metadata": {},
   "outputs": [
    {
     "data": {
      "text/plain": [
       "\"{'header': {'invoice_no': '61356291', 'invoice_date': '09/06/2012', 'seller': 'Chapman, Kim and Green 64731 James Branch Smithmouth, NC 26872', 'client': 'Rodriguez-Stevens 2280 Angela Plain Hortonshire, MS 93248', 'seller_tax_id': '949-84-9105', 'client_tax_id': '939-98-8477', 'iban': 'GB50ACIE59715038217063'}, 'items': [{'item_desc': 'Wine Glasses Goblets Pair Clear Glass', 'item_qty': '5,00', 'item_net_price': '12,00', 'item_net_worth': '60,00', 'item_vat': '10%', 'item_gross_worth': '66,00'}, {'item_desc': 'With Hooks Stemware Storage Multiple Uses Iron Wine Rack Hanging Glass', 'item_qty': '4,00', 'item_net_price': '28,08', 'total_net_worth': '112,32', 'item_vat': '10%', 'item_gross_worth': '123,55'}, {'item_desc': 'Replacement Corkscrew Parts Spiral Worm Wine Opener Bottle Houdini', 'item_qty': '1,00', 'item_net_price': '7,50', 'total_net_worth': '7,50', 'item_vat': '10%', 'item_gross_worth': '8,25'}, {'item_desc': 'HOME ESSENTIALS GRADIENT STEMLESS WINE GLASSES SET OF 420 FL OZ (591 ml) NEW', 'item_qty': '1,00', 'item_net_price': '12,99', 'item_net_worth': '12,99', 'item_vat': '10%', 'item_gross_worth': '14,29'}], 'summary': {'total_net_worth': '$ 192,81', 'total_vat': '$19,28', 'total_gross_worth': '$ 212,09'}}\""
      ]
     },
     "execution_count": 31,
     "metadata": {},
     "output_type": "execute_result"
    }
   ],
   "source": [
    "json.loads(df.iloc[1]['parsed_data'])['json']"
   ]
  },
  {
   "cell_type": "markdown",
   "id": "415cddce",
   "metadata": {},
   "source": [
    "So the extracted information from the document matches the actaul data. There is difference in the name like Seller is named as Supplier when processed with document AI invoice processor which we can work on the post processing to improve the result. Otherwise the result is very good."
   ]
  }
 ],
 "metadata": {
  "kernelspec": {
   "display_name": "Python 3 (ipykernel)",
   "language": "python",
   "name": "python3"
  },
  "language_info": {
   "codemirror_mode": {
    "name": "ipython",
    "version": 3
   },
   "file_extension": ".py",
   "mimetype": "text/x-python",
   "name": "python",
   "nbconvert_exporter": "python",
   "pygments_lexer": "ipython3",
   "version": "3.11.5"
  }
 },
 "nbformat": 4,
 "nbformat_minor": 5
}
